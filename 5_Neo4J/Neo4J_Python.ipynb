{
 "cells": [
  {
   "cell_type": "code",
   "execution_count": 3,
   "metadata": {},
   "outputs": [],
   "source": [
    "from neo4j import GraphDatabase"
   ]
  },
  {
   "cell_type": "code",
   "execution_count": 56,
   "metadata": {},
   "outputs": [],
   "source": [
    "driver = GraphDatabase.driver('bolt://localhost:7687')"
   ]
  },
  {
   "cell_type": "code",
   "execution_count": 36,
   "metadata": {},
   "outputs": [
    {
     "name": "stdout",
     "output_type": "stream",
     "text": [
      "[<Record m=<Node id=219931 labels={'Movie'} properties={'title': 'Lalka'}>>]\n",
      "[]\n"
     ]
    }
   ],
   "source": [
    "# 4\n",
    "\n",
    "name = \"Stan Wokulski\"\n",
    "title = \"Lalka\"\n",
    "\n",
    "def create_actor(driver, name):\n",
    "    with driver.session() as session:\n",
    "        result = session.run('CREATE (a:Actor{name: $name}) RETURN a', name=name)\n",
    "        print(list(result))\n",
    "        \n",
    "def create_movie(driver, title):\n",
    "    with driver.session() as session:\n",
    "        result = session.run('CREATE (m:Movie{title: $title}) RETURN m', title=title)\n",
    "        print(list(result))\n",
    "   \n",
    "     \n",
    "def create_relation(driver, name, title):\n",
    "    with driver.session() as session:\n",
    "        result = session.run(\n",
    "                '''\n",
    "                MATCH (a:Actor{name: $name}), (m:Movie{title: $title})\n",
    "                CREATE (a) -[:ACTS_IN]-> (m)\n",
    "                ''', name=name, title=title)\n",
    "        print(list(result))\n",
    "    \n",
    "\n",
    "              \n",
    "create_actor(driver, name)\n",
    "create_movie(driver, title)\n",
    "create_relation(driver, name, title)"
   ]
  },
  {
   "cell_type": "code",
   "execution_count": 40,
   "metadata": {},
   "outputs": [
    {
     "name": "stdout",
     "output_type": "stream",
     "text": [
      "[]\n"
     ]
    }
   ],
   "source": [
    "# 5\n",
    "\n",
    "name = \"Stan Wokulski\"\n",
    "birthplace = 'Warsaw'\n",
    "birthdate = '09-07-1832'\n",
    "\n",
    "def set_actor_information(driver, name, birthplace, birthdate):\n",
    "    with driver.session() as session:\n",
    "        result = session.run(\n",
    "                '''\n",
    "                MATCH (a:Actor{name: $name})\n",
    "                SET a.birthplace = $birthplace\n",
    "                SET a.birthdate = $birthdate\n",
    "                ''', name=name, birthplace=birthplace, birthdate=birthdate)\n",
    "        print(list(result))\n",
    "           \n",
    "set_actor_information(driver, name, birthplace, birthdate)"
   ]
  },
  {
   "cell_type": "code",
   "execution_count": 48,
   "metadata": {},
   "outputs": [],
   "source": [
    "# 6\n",
    "\n",
    "def count_query(driver):\n",
    "    with driver.session() as session:\n",
    "        result = session.run(\n",
    "            '''\n",
    "            MATCH (a:Actor) -[r:ACTS_IN]-> (m:Movie) \n",
    "            WITH a, length( collect(r) ) as count \n",
    "            WHERE count >= 6 \n",
    "            RETURN a\n",
    "            ''')\n",
    "    \n",
    "\n",
    "count_query(driver)"
   ]
  },
  {
   "cell_type": "code",
   "execution_count": 44,
   "metadata": {},
   "outputs": [
    {
     "name": "stdout",
     "output_type": "stream",
     "text": [
      "[<Record AVG(count)=12.775387263339091>]\n"
     ]
    }
   ],
   "source": [
    "# 7\n",
    "\n",
    "def average_query(driver):\n",
    "    with driver.session() as session:\n",
    "        result = session.run(\n",
    "                  '''\n",
    "                  MATCH (a:Actor) -[r:ACTS_IN]-> (m:Movie) \n",
    "                  WITH a, length( collect(r) ) as count \n",
    "                  WHERE count >= 7 \n",
    "                  RETURN AVG(count)\n",
    "                  ''')\n",
    "        print(list(result)) \n",
    "\n",
    "average_query(driver)"
   ]
  },
  {
   "cell_type": "code",
   "execution_count": 47,
   "metadata": {},
   "outputs": [],
   "source": [
    "# 8\n",
    "\n",
    "def actor_director_query(driver):\n",
    "    with driver.session() as session:\n",
    "        result = session.run(\n",
    "                    '''\n",
    "                    MATCH () <-[d:DIRECTED]- (a:Actor) -[p:ACTS_IN]-> () \n",
    "                    WITH a, count(d) AS c1, count(p) AS c2 \n",
    "                    WHERE c1 >= 5 AND c2 >= 1\n",
    "                    RETURN a\n",
    "                    ORDER BY c1\n",
    "                    ''')\n",
    "\n",
    "actor_director_query(driver)"
   ]
  },
  {
   "cell_type": "code",
   "execution_count": 53,
   "metadata": {},
   "outputs": [],
   "source": [
    "# 9\n",
    "\n",
    "login = 'maheshksp'\n",
    "\n",
    "def rating_query(driver, login):\n",
    "    with driver.session() as session:\n",
    "        result = session.run(\n",
    "                '''\n",
    "                MATCH (u:User{login: $login}) -[:FRIEND]-> (f:User) -[r:RATED] -> (m:Movie) \n",
    "                WHERE r.stars >= 3 \n",
    "                RETURN f, m.title, r.stars\n",
    "                ''', login=login)\n",
    "    \n",
    "rating_query(driver, login)"
   ]
  },
  {
   "cell_type": "code",
   "execution_count": 64,
   "metadata": {},
   "outputs": [],
   "source": [
    "#10\n",
    "\n",
    "actor1 = \"Emma Watson\"\n",
    "actor2 = \"Daniel Radcliffe\"\n",
    "\n",
    "def path_query(driver, actor1, actor2):\n",
    "    with driver.session() as session:\n",
    "        result = session.run(\n",
    "                    '''\n",
    "                    MATCH path = (a1:Actor {name: $actor1}) -[*1..6]- (a2:Actor {name: $actor2})\n",
    "                    RETURN DISTINCT [n IN nodes(path) WHERE NOT \"Movie\" IN LABELS(n) | n.name]\n",
    "                    ''', actor1=actor1, actor2=actor2)\n",
    "        \n",
    "\n",
    "path_query(driver, actor1, actor2)"
   ]
  }
 ],
 "metadata": {
  "kernelspec": {
   "display_name": "Python 3",
   "language": "python",
   "name": "python3"
  },
  "language_info": {
   "codemirror_mode": {
    "name": "ipython",
    "version": 3
   },
   "file_extension": ".py",
   "mimetype": "text/x-python",
   "name": "python",
   "nbconvert_exporter": "python",
   "pygments_lexer": "ipython3",
   "version": "3.7.0"
  }
 },
 "nbformat": 4,
 "nbformat_minor": 2
}
